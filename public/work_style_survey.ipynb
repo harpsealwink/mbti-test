{
 "cells": [
  {
   "cell_type": "markdown",
   "id": "88cedfb7-616e-4f0d-baa6-517fdf7ee635",
   "metadata": {},
   "source": [
    "Structure: \\\n",
    "Each question is associated with category, positive/negative correlation, and answer \\\n",
    "Present questions 10 on each page, such that questions for each category are distributed between the pages."
   ]
  },
  {
   "cell_type": "code",
   "execution_count": 3,
   "id": "b8f43dcc-9d85-4f8e-9d03-f55c75acc286",
   "metadata": {},
   "outputs": [],
   "source": [
    "import csv\n",
    "import numpy as np\n",
    "\n",
    "questions = []\n",
    "category = []\n",
    "coeff = []\n",
    "answers = [] #from user input, from -3 to 3 *** NOTE: -3 is strongly agree, 3 is strongly disagree ***\n",
    "\n",
    "with open('ordered_questions.csv', newline='') as f:\n",
    "    data = csv.reader(f, delimiter = ',')\n",
    "    for row in data:\n",
    "        questions.append(row[0])\n",
    "        category.append(int(row[1]))\n",
    "        coeff.append(int(row[2]))"
   ]
  },
  {
   "cell_type": "code",
   "execution_count": 4,
   "id": "a2875994-917c-4623-995b-f7f3e8b0ee69",
   "metadata": {},
   "outputs": [],
   "source": [
    "def get_scores(questions, category, coeff, answers):\n",
    "    '''\n",
    "    Input: lists have same length, each index corresponds to a question\n",
    "    Output: scores - score for each of 4 categories\n",
    "    '''\n",
    "    category = np.array(category)\n",
    "    coeff = np.array(coeff)\n",
    "    answers = np.array(answers)\n",
    "    intercepts = [-5, 15, 5, 0] #predisposition in population\n",
    "    weight = -2.75\n",
    "    \n",
    "    scores = []\n",
    "    for category_id in range(4):\n",
    "        c_indexs = np.where(category == category_id)[0]\n",
    "        c_answers = answers[c_indexs]\n",
    "        c_coeffs = coeff[c_indexs] * weight\n",
    "        raw_score = c_answers @ c_coeffs + intercepts[category_id]\n",
    "        score = np.floor(raw_score) if raw_score > 0 else np.ceil(raw_score)\n",
    "        score = np.clip(score, -100, 100)\n",
    "        if score == 0: score = -1\n",
    "        scores.append(int(score))\n",
    "    return scores"
   ]
  },
  {
   "cell_type": "code",
   "execution_count": 5,
   "id": "1a0b7e62-52c9-4de6-8bb1-4de1d12a33f3",
   "metadata": {},
   "outputs": [],
   "source": [
    "category_key = [('E', 'I'), ('N', 'S'), ('T', 'F'), ('J', 'P')]\n",
    "\n",
    "def get_mbti(scores):\n",
    "    '''\n",
    "    converts scores into mbti category\n",
    "    positive equals first item (eg. E) , negative equals second item (eg. I)\n",
    "    Input: list of scores\n",
    "    Output: string for mbti\n",
    "    '''\n",
    "    mbti = ''\n",
    "    for category_id in range(4):\n",
    "        score = scores[category_id]\n",
    "        if score > 0:\n",
    "            mbti += category_key[category_id][0]\n",
    "        else:\n",
    "            mbti += category_key[category_id][1]\n",
    "    return mbti"
   ]
  },
  {
   "cell_type": "markdown",
   "id": "3f88f831-2795-41a5-9055-166077018554",
   "metadata": {},
   "source": [
    "Now I want to display the result from https://www.16personalities.com/[mbti]-personality where mbti is replaced with the output from get_mbti. I want to copy the HTML/CSS/text from this page but not link it to the page itself."
   ]
  },
  {
   "cell_type": "markdown",
   "metadata": {},
   "source": []
  }
 ],
 "metadata": {
  "kernelspec": {
   "display_name": "Python 3 (ipykernel)",
   "language": "python",
   "name": "python3"
  },
  "language_info": {
   "codemirror_mode": {
    "name": "ipython",
    "version": 3
   },
   "file_extension": ".py",
   "mimetype": "text/x-python",
   "name": "python",
   "nbconvert_exporter": "python",
   "pygments_lexer": "ipython3",
   "version": "3.11.1"
  }
 },
 "nbformat": 4,
 "nbformat_minor": 5
}
